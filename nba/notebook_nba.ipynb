{
 "cells": [
  {
   "cell_type": "code",
   "execution_count": 3,
   "metadata": {},
   "outputs": [
    {
     "name": "stderr",
     "output_type": "stream",
     "text": [
      "your 131072x1 screen size is bogus. expect trouble\n",
      "Setting default log level to \"WARN\".\n",
      "To adjust logging level use sc.setLogLevel(newLevel). For SparkR, use setLogLevel(newLevel).\n"
     ]
    }
   ],
   "source": [
    "# Import PySpark\n",
    "from pyspark.sql import SparkSession\n",
    "\n",
    "#Create SparkSession\n",
    "spark = SparkSession.builder \\\n",
    "                    .master(\"local[1]\") \\\n",
    "                    .appName(\"NBA\") \\\n",
    "                    .getOrCreate()\n"
   ]
  },
  {
   "cell_type": "markdown",
   "metadata": {},
   "source": [
    "# Ajout des données\n",
    "On utilise les données du csv \"2022-2023 NBA Player Stats - Regular.csv\""
   ]
  },
  {
   "cell_type": "code",
   "execution_count": 9,
   "metadata": {},
   "outputs": [],
   "source": [
    "# Définition du chemin des données\n",
    "path = \"/home/guillaume/VS_Code/OC-Spark/nba/data/2022-2023 NBA Player Stats - Regular.csv\"\n",
    "# Création du dataFrame Spark contenant le csv\n",
    "df = spark.read.option(\"delimiter\", \";\").option(\"header\", True).csv(path)"
   ]
  },
  {
   "cell_type": "code",
   "execution_count": 15,
   "metadata": {},
   "outputs": [
    {
     "name": "stdout",
     "output_type": "stream",
     "text": [
      "+---+--------------------+---+---+---+---+---+----+---+----+-----+---+---+-----+---+----+-----+-----+---+---+-----+---+---+----+---+---+---+---+---+----+\n",
      "| Rk|              Player|Pos|Age| Tm|  G| GS|  MP| FG| FGA|  FG%| 3P|3PA|  3P%| 2P| 2PA|  2P%| eFG%| FT|FTA|  FT%|ORB|DRB| TRB|AST|STL|BLK|TOV| PF| PTS|\n",
      "+---+--------------------+---+---+---+---+---+----+---+----+-----+---+---+-----+---+----+-----+-----+---+---+-----+---+---+----+---+---+---+---+---+----+\n",
      "|  1|    Precious Achiuwa|  C| 23|TOR| 55| 12|20.7|3.6| 7.3|0.485|0.5|  2|0.269|  3| 5.4|0.564|0.521|1.6|2.3|0.702|1.8|4.1|   6|0.9|0.6|0.5|1.1|1.9| 9.2|\n",
      "|  2|        Steven Adams|  C| 29|MEM| 42| 42|  27|3.7| 6.3|0.597|  0|  0|    0|3.7| 6.2|0.599|0.597|1.1|3.1|0.364|5.1|6.5|11.5|2.3|0.9|1.1|1.9|2.3| 8.6|\n",
      "|  3|         Bam Adebayo|  C| 25|MIA| 75| 75|34.6|  8|14.9| 0.54|  0|0.2|0.083|  8|14.7|0.545|0.541|4.3|5.4|0.806|2.5|6.7| 9.2|3.2|1.2|0.8|2.5|2.8|20.4|\n",
      "|  4|        Ochai Agbaji| SG| 22|UTA| 59| 22|20.5|2.8| 6.5|0.427|1.4|3.9|0.355|1.4| 2.7|0.532|0.532|0.9|1.2|0.812|0.7|1.3| 2.1|1.1|0.3|0.3|0.7|1.7| 7.9|\n",
      "|  5|        Santi Aldama| PF| 22|MEM| 77| 20|21.8|3.2| 6.8| 0.47|1.2|3.5|0.353|  2| 3.4|0.591| 0.56|1.4|1.9| 0.75|1.1|3.7| 4.8|1.3|0.6|0.6|0.8|1.9|   9|\n",
      "|  6|Nickeil Alexander...| SG| 24|TOT| 59|  3|  15|2.2|   5|0.444|  1|2.7|0.384|1.2| 2.3|0.515|0.547|0.7|  1|0.667|0.3|1.5| 1.7|1.8|0.5|0.4|0.9|1.5| 6.2|\n",
      "|  6|Nickeil Alexander...| SG| 24|UTA| 36|  3|14.7|2.3| 4.7|0.488|  1|2.4|0.402|1.3| 2.3|0.578|0.591|0.8|1.1|0.692|0.2|1.4| 1.6|2.1|0.7|0.4|1.3|1.6| 6.3|\n",
      "+---+--------------------+---+---+---+---+---+----+---+----+-----+---+---+-----+---+----+-----+-----+---+---+-----+---+---+----+---+---+---+---+---+----+\n",
      "only showing top 7 rows\n",
      "\n"
     ]
    }
   ],
   "source": [
    "# Affichage des premières lignes de notre dataFrame\n",
    "df.show(7)"
   ]
  },
  {
   "cell_type": "markdown",
   "metadata": {},
   "source": [
    "# Data Viz\n",
    "Visualisation de certaines informations récupérées à partir du csv"
   ]
  },
  {
   "cell_type": "markdown",
   "metadata": {},
   "source": [
    "## Visualisation du nombre d'équipe que chaque joueur a eu dans l'année 2022-2023"
   ]
  },
  {
   "cell_type": "code",
   "execution_count": 29,
   "metadata": {},
   "outputs": [],
   "source": [
    "team_count = df.groupBy(\"Rk\", \"Player\").count().orderBy(\"count\", ascending = False)"
   ]
  },
  {
   "cell_type": "code",
   "execution_count": 30,
   "metadata": {},
   "outputs": [
    {
     "name": "stdout",
     "output_type": "stream",
     "text": [
      "+---+--------------------+-----+\n",
      "| Rk|              Player|count|\n",
      "+---+--------------------+-----+\n",
      "|  6|Nickeil Alexander...|    3|\n",
      "| 66|         Moses Brown|    3|\n",
      "|303|Sandro Mamukelash...|    3|\n",
      "|430|         Dario �ari?|    3|\n",
      "|175|         Danny Green|    3|\n",
      "+---+--------------------+-----+\n",
      "only showing top 5 rows\n",
      "\n"
     ]
    }
   ],
   "source": [
    "team_count.show(5)"
   ]
  },
  {
   "cell_type": "code",
   "execution_count": null,
   "metadata": {},
   "outputs": [],
   "source": []
  }
 ],
 "metadata": {
  "kernelspec": {
   "display_name": "Python 3",
   "language": "python",
   "name": "python3"
  },
  "language_info": {
   "codemirror_mode": {
    "name": "ipython",
    "version": 3
   },
   "file_extension": ".py",
   "mimetype": "text/x-python",
   "name": "python",
   "nbconvert_exporter": "python",
   "pygments_lexer": "ipython3",
   "version": "3.10.12"
  },
  "orig_nbformat": 4
 },
 "nbformat": 4,
 "nbformat_minor": 2
}
